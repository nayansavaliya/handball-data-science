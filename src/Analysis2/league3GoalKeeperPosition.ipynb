{
 "cells": [
  {
   "attachments": {},
   "cell_type": "markdown",
   "metadata": {},
   "source": [
    "Imports"
   ]
  },
  {
   "cell_type": "code",
   "execution_count": 1,
   "metadata": {},
   "outputs": [],
   "source": [
    "import pandas as pd\n",
    "import numpy as np\n",
    "import matplotlib.pyplot as plt\n",
    "import seaborn as sns\n",
    "%matplotlib inline"
   ]
  },
  {
   "cell_type": "markdown",
   "metadata": {},
   "source": [
    "Read Data"
   ]
  },
  {
   "cell_type": "code",
   "execution_count": 2,
   "metadata": {},
   "outputs": [
    {
     "name": "stderr",
     "output_type": "stream",
     "text": [
      "/Users/nayansavaliya/Desktop/HandballGameAnalysis/hba-venv/lib/python3.9/site-packages/openpyxl/worksheet/_reader.py:312: UserWarning: Data Validation extension is not supported and will be removed\n",
      "  warn(msg)\n"
     ]
    },
    {
     "data": {
      "text/plain": [
       "Index(['Heimmannschaft', 'Gastmannschaft', 'Spieltag', 'Name', 'Spielminute',\n",
       "       'Differenz Pfiff 1 und 2 (in Sekunden)', 'Tore Verein', 'Tore Gegner',\n",
       "       'Torwartposition (1 = vorne, 2 = hinten)',\n",
       "       'Wurf erfolgreich (0= Nein, 1 = Ja, 2 = im Nachwurf)',\n",
       "       'L-R-Händer (1= Rechtshänder; 2= Linkshänder)', 'Wurfrichtung (1-9)?',\n",
       "       'Drucksituation?\\n0 = Nein, 1 = Torwartwechsel\\n2 = letzter 7 Meter gehalten\\n3 = Tordifferenz =< 4 + ab 50. Spielminute\\n4 = 1 + 2, 5 = 1 + 3, 6 = 2 + 3, 7 = 1 + 2 + 3, 8 = letzer 7-Meter erst im Nachwurf erfolgreich',\n",
       "       'Anzahl 7-Meter im Spiel (der wievielte 7-Meter im Spiel vom Spieler)',\n",
       "       'Wurfquadrant des letzten 7-Meters (1-9)',\n",
       "       'letzter 7-Meter erfolgreich \\n(1= ja; 0= Nein; 2 = im Nachwurf erfolgreich)?'],\n",
       "      dtype='object')"
      ]
     },
     "execution_count": 2,
     "metadata": {},
     "output_type": "execute_result"
    }
   ],
   "source": [
    "file = pd.ExcelFile(\"../../data/v7/Handball 3. Liga vom 16.01.2023.xlsx\")\n",
    "\n",
    "file.sheet_names\n",
    "\n",
    "df = file.parse('3. Liga')\n",
    "\n",
    "# drop last col comments\n",
    "df = df.iloc[:, :-1]\n",
    "df.columns"
   ]
  },
  {
   "attachments": {},
   "cell_type": "markdown",
   "metadata": {},
   "source": [
    "Cleanup & Renaming"
   ]
  },
  {
   "cell_type": "code",
   "execution_count": 3,
   "metadata": {},
   "outputs": [
    {
     "data": {
      "text/html": [
       "<div>\n",
       "<style scoped>\n",
       "    .dataframe tbody tr th:only-of-type {\n",
       "        vertical-align: middle;\n",
       "    }\n",
       "\n",
       "    .dataframe tbody tr th {\n",
       "        vertical-align: top;\n",
       "    }\n",
       "\n",
       "    .dataframe thead th {\n",
       "        text-align: right;\n",
       "    }\n",
       "</style>\n",
       "<table border=\"1\" class=\"dataframe\">\n",
       "  <thead>\n",
       "    <tr style=\"text-align: right;\">\n",
       "      <th></th>\n",
       "      <th>homeTeam</th>\n",
       "      <th>opponentTeam</th>\n",
       "      <th>day</th>\n",
       "      <th>name</th>\n",
       "      <th>playTime</th>\n",
       "      <th>whistleThrowTime</th>\n",
       "      <th>homeGoals</th>\n",
       "      <th>opponentGoals</th>\n",
       "      <th>goalKeeperPosition</th>\n",
       "      <th>throwSuccess</th>\n",
       "      <th>LRHandy</th>\n",
       "      <th>throwDirection</th>\n",
       "      <th>pressureSituation</th>\n",
       "      <th>noOfThrowsFromPlayer</th>\n",
       "      <th>throwQuadrantLastThrow</th>\n",
       "      <th>lastThrowSuccess</th>\n",
       "    </tr>\n",
       "  </thead>\n",
       "  <tbody>\n",
       "    <tr>\n",
       "      <th>0</th>\n",
       "      <td>TV Emsdetten</td>\n",
       "      <td>ASV Hamm-Westfalen II</td>\n",
       "      <td>1.0</td>\n",
       "      <td>&lt;NA&gt;</td>\n",
       "      <td>NaN</td>\n",
       "      <td>NaN</td>\n",
       "      <td>NaN</td>\n",
       "      <td>NaN</td>\n",
       "      <td>NaN</td>\n",
       "      <td>NaN</td>\n",
       "      <td>NaN</td>\n",
       "      <td>NaN</td>\n",
       "      <td>NaN</td>\n",
       "      <td>NaN</td>\n",
       "      <td>NaN</td>\n",
       "      <td>NaN</td>\n",
       "    </tr>\n",
       "    <tr>\n",
       "      <th>1</th>\n",
       "      <td>HLZ Ahlener SG</td>\n",
       "      <td>TV Emsdetten</td>\n",
       "      <td>2.0</td>\n",
       "      <td>&lt;NA&gt;</td>\n",
       "      <td>NaN</td>\n",
       "      <td>NaN</td>\n",
       "      <td>NaN</td>\n",
       "      <td>NaN</td>\n",
       "      <td>NaN</td>\n",
       "      <td>NaN</td>\n",
       "      <td>NaN</td>\n",
       "      <td>NaN</td>\n",
       "      <td>NaN</td>\n",
       "      <td>NaN</td>\n",
       "      <td>NaN</td>\n",
       "      <td>NaN</td>\n",
       "    </tr>\n",
       "    <tr>\n",
       "      <th>2</th>\n",
       "      <td>TV Emsdetten</td>\n",
       "      <td>VfL Gladbeck</td>\n",
       "      <td>3.0</td>\n",
       "      <td>Holzner</td>\n",
       "      <td>2.0</td>\n",
       "      <td>23.0</td>\n",
       "      <td>0.0</td>\n",
       "      <td>0.0</td>\n",
       "      <td>1.0</td>\n",
       "      <td>1.0</td>\n",
       "      <td>1.0</td>\n",
       "      <td>8.0</td>\n",
       "      <td>0.0</td>\n",
       "      <td>1.0</td>\n",
       "      <td>NaN</td>\n",
       "      <td>1.0</td>\n",
       "    </tr>\n",
       "    <tr>\n",
       "      <th>3</th>\n",
       "      <td>TV Emsdetten</td>\n",
       "      <td>VfL Gladbeck</td>\n",
       "      <td>3.0</td>\n",
       "      <td>Holzner</td>\n",
       "      <td>7.0</td>\n",
       "      <td>16.0</td>\n",
       "      <td>5.0</td>\n",
       "      <td>1.0</td>\n",
       "      <td>1.0</td>\n",
       "      <td>1.0</td>\n",
       "      <td>1.0</td>\n",
       "      <td>3.0</td>\n",
       "      <td>0.0</td>\n",
       "      <td>2.0</td>\n",
       "      <td>8.0</td>\n",
       "      <td>1.0</td>\n",
       "    </tr>\n",
       "    <tr>\n",
       "      <th>4</th>\n",
       "      <td>TV Emsdetten</td>\n",
       "      <td>VfL Gladbeck</td>\n",
       "      <td>3.0</td>\n",
       "      <td>Holzner</td>\n",
       "      <td>31.0</td>\n",
       "      <td>28.0</td>\n",
       "      <td>19.0</td>\n",
       "      <td>9.0</td>\n",
       "      <td>1.0</td>\n",
       "      <td>1.0</td>\n",
       "      <td>1.0</td>\n",
       "      <td>7.0</td>\n",
       "      <td>0.0</td>\n",
       "      <td>3.0</td>\n",
       "      <td>3.0</td>\n",
       "      <td>1.0</td>\n",
       "    </tr>\n",
       "  </tbody>\n",
       "</table>\n",
       "</div>"
      ],
      "text/plain": [
       "         homeTeam           opponentTeam  day     name  playTime  \\\n",
       "0    TV Emsdetten  ASV Hamm-Westfalen II  1.0     <NA>       NaN   \n",
       "1  HLZ Ahlener SG           TV Emsdetten  2.0     <NA>       NaN   \n",
       "2    TV Emsdetten           VfL Gladbeck  3.0  Holzner       2.0   \n",
       "3    TV Emsdetten           VfL Gladbeck  3.0  Holzner       7.0   \n",
       "4    TV Emsdetten           VfL Gladbeck  3.0  Holzner      31.0   \n",
       "\n",
       "   whistleThrowTime  homeGoals  opponentGoals  goalKeeperPosition  \\\n",
       "0               NaN        NaN            NaN                 NaN   \n",
       "1               NaN        NaN            NaN                 NaN   \n",
       "2              23.0        0.0            0.0                 1.0   \n",
       "3              16.0        5.0            1.0                 1.0   \n",
       "4              28.0       19.0            9.0                 1.0   \n",
       "\n",
       "   throwSuccess  LRHandy  throwDirection  pressureSituation  \\\n",
       "0           NaN      NaN             NaN                NaN   \n",
       "1           NaN      NaN             NaN                NaN   \n",
       "2           1.0      1.0             8.0                0.0   \n",
       "3           1.0      1.0             3.0                0.0   \n",
       "4           1.0      1.0             7.0                0.0   \n",
       "\n",
       "   noOfThrowsFromPlayer  throwQuadrantLastThrow  lastThrowSuccess  \n",
       "0                   NaN                     NaN               NaN  \n",
       "1                   NaN                     NaN               NaN  \n",
       "2                   1.0                     NaN               1.0  \n",
       "3                   2.0                     8.0               1.0  \n",
       "4                   3.0                     3.0               1.0  "
      ]
     },
     "execution_count": 3,
     "metadata": {},
     "output_type": "execute_result"
    }
   ],
   "source": [
    "df.replace('unklar', np.nan,inplace=True)\n",
    "df.replace('unklar ', np.nan,inplace=True)\n",
    "df.replace('fehlend', np.nan,inplace=True)\n",
    "#df.dropna(inplace=True)\n",
    "df.replace('-', np.nan,inplace=True)\n",
    "df.columns =[ 'homeTeam','opponentTeam','day','name','playTime',\n",
    "              'whistleThrowTime','homeGoals','opponentGoals','goalKeeperPosition',\n",
    "              'throwSuccess','LRHandy','throwDirection','pressureSituation','noOfThrowsFromPlayer',\n",
    "              'throwQuadrantLastThrow','lastThrowSuccess']\n",
    "df = df.astype({'homeTeam':'string', 'opponentTeam':'string','day':'float16','name':'string','playTime':'float16',\n",
    "              'homeGoals':'float16','opponentGoals':'float16','whistleThrowTime':'float16','goalKeeperPosition':'float16',\n",
    "              'throwSuccess':'float16','LRHandy':'float16','throwDirection':'float16','pressureSituation':'float16','noOfThrowsFromPlayer':'float16',\n",
    "              'throwQuadrantLastThrow':'float16','lastThrowSuccess':'float16' })\n",
    "df.head()"
   ]
  },
  {
   "cell_type": "code",
   "execution_count": 4,
   "metadata": {},
   "outputs": [],
   "source": [
    "df = df.loc[:,('name','goalKeeperPosition','throwSuccess')].copy()\n",
    "df['goalKeeperPosition'].replace(0, None,inplace=True)\n",
    "df.dropna(inplace=True)\n",
    "df['throwSuccess'].replace(2.0, 1.0,inplace=True)\n",
    "df['goalKeeperPosition'].replace(1, 'Vorne',inplace=True)\n",
    "df['goalKeeperPosition'].replace(2, 'Hinten',inplace=True)\n"
   ]
  },
  {
   "cell_type": "code",
   "execution_count": 5,
   "metadata": {},
   "outputs": [
    {
     "data": {
      "text/plain": [
       "goalKeeperPosition  throwSuccess\n",
       "Hinten              1.0               4\n",
       "                    0.0               2\n",
       "Vorne               1.0             270\n",
       "                    0.0              64\n",
       "Name: throwSuccess, dtype: int64"
      ]
     },
     "execution_count": 5,
     "metadata": {},
     "output_type": "execute_result"
    }
   ],
   "source": [
    "df3 = df.groupby(['goalKeeperPosition']).throwSuccess.value_counts(normalize=False)\n",
    "df3"
   ]
  },
  {
   "cell_type": "code",
   "execution_count": 6,
   "metadata": {},
   "outputs": [
    {
     "data": {
      "text/plain": [
       "goalKeeperPosition  throwSuccess\n",
       "Hinten              1.0             0.666667\n",
       "                    0.0             0.333333\n",
       "Vorne               1.0             0.808383\n",
       "                    0.0             0.191617\n",
       "Name: throwSuccess, dtype: float64"
      ]
     },
     "execution_count": 6,
     "metadata": {},
     "output_type": "execute_result"
    }
   ],
   "source": [
    "df4 = df.groupby(['goalKeeperPosition']).throwSuccess.value_counts(normalize=True)\n",
    "df4"
   ]
  }
 ],
 "metadata": {
  "kernelspec": {
   "display_name": "Python 3.9.6 ('hba-venv': venv)",
   "language": "python",
   "name": "python3"
  },
  "language_info": {
   "codemirror_mode": {
    "name": "ipython",
    "version": 3
   },
   "file_extension": ".py",
   "mimetype": "text/x-python",
   "name": "python",
   "nbconvert_exporter": "python",
   "pygments_lexer": "ipython3",
   "version": "3.9.6 (default, Sep 26 2022, 11:37:49) \n[Clang 14.0.0 (clang-1400.0.29.202)]"
  },
  "orig_nbformat": 4,
  "vscode": {
   "interpreter": {
    "hash": "2836679e579ea753e9cd916b5ae112c500625653011e8467c2f722882acbf950"
   }
  }
 },
 "nbformat": 4,
 "nbformat_minor": 2
}
