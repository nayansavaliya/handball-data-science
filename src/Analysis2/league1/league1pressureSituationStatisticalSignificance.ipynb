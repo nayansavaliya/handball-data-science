{
 "cells": [
  {
   "attachments": {},
   "cell_type": "markdown",
   "metadata": {},
   "source": [
    "Imports"
   ]
  },
  {
   "cell_type": "code",
   "execution_count": 1,
   "metadata": {},
   "outputs": [],
   "source": [
    "import pandas as pd\n",
    "import numpy as np\n",
    "import matplotlib.pyplot as plt\n",
    "%matplotlib inline"
   ]
  },
  {
   "cell_type": "markdown",
   "metadata": {},
   "source": [
    "Read Data"
   ]
  },
  {
   "cell_type": "code",
   "execution_count": 2,
   "metadata": {},
   "outputs": [
    {
     "name": "stderr",
     "output_type": "stream",
     "text": [
      "/Users/nayansavaliya/Desktop/HandballGameAnalysis/hba-venv/lib/python3.9/site-packages/openpyxl/worksheet/_reader.py:312: UserWarning: Data Validation extension is not supported and will be removed\n",
      "  warn(msg)\n"
     ]
    }
   ],
   "source": [
    "file = pd.ExcelFile(\"../../../data/v4/Handballprojekt_1Liga fertig.xlsx\")\n",
    "\n",
    "file.sheet_names\n",
    "\n",
    "df = file.parse('1. Liga')\n",
    "\n",
    "# drop last col comments & favorite corner & empy rows at end\n",
    "df = df.iloc[:, :-2]\n"
   ]
  },
  {
   "attachments": {},
   "cell_type": "markdown",
   "metadata": {},
   "source": [
    "Cleanup & Renaming"
   ]
  },
  {
   "cell_type": "code",
   "execution_count": 3,
   "metadata": {},
   "outputs": [
    {
     "data": {
      "text/html": [
       "<div>\n",
       "<style scoped>\n",
       "    .dataframe tbody tr th:only-of-type {\n",
       "        vertical-align: middle;\n",
       "    }\n",
       "\n",
       "    .dataframe tbody tr th {\n",
       "        vertical-align: top;\n",
       "    }\n",
       "\n",
       "    .dataframe thead th {\n",
       "        text-align: right;\n",
       "    }\n",
       "</style>\n",
       "<table border=\"1\" class=\"dataframe\">\n",
       "  <thead>\n",
       "    <tr style=\"text-align: right;\">\n",
       "      <th></th>\n",
       "      <th>homeTeam</th>\n",
       "      <th>opponentTeam</th>\n",
       "      <th>day</th>\n",
       "      <th>name</th>\n",
       "      <th>playTime</th>\n",
       "      <th>homeGoals</th>\n",
       "      <th>opponentGoals</th>\n",
       "      <th>throwSuccess</th>\n",
       "      <th>whistleThrowTime</th>\n",
       "      <th>LRHandy</th>\n",
       "      <th>throwDirection</th>\n",
       "      <th>goalKeeperPosition</th>\n",
       "      <th>goalKeeperName</th>\n",
       "      <th>goalKeeperHeightCM</th>\n",
       "      <th>shooterheightCM</th>\n",
       "      <th>pressureSituation</th>\n",
       "      <th>noOfThrowsFromPlayer</th>\n",
       "      <th>throwQuadrantLastThrow</th>\n",
       "      <th>lastThrowSuccess</th>\n",
       "    </tr>\n",
       "  </thead>\n",
       "  <tbody>\n",
       "    <tr>\n",
       "      <th>0</th>\n",
       "      <td>SC Magdeburg</td>\n",
       "      <td>TVB 1898 Stuttgart</td>\n",
       "      <td>1.0</td>\n",
       "      <td>Magnusson</td>\n",
       "      <td>19.0</td>\n",
       "      <td>9.0</td>\n",
       "      <td>9.0</td>\n",
       "      <td>1.0</td>\n",
       "      <td>18.0</td>\n",
       "      <td>2.0</td>\n",
       "      <td>7.0</td>\n",
       "      <td>1.0</td>\n",
       "      <td>Heinevetter</td>\n",
       "      <td>194.0</td>\n",
       "      <td>186.0</td>\n",
       "      <td>0.0</td>\n",
       "      <td>1.0</td>\n",
       "      <td>NaN</td>\n",
       "      <td>NaN</td>\n",
       "    </tr>\n",
       "    <tr>\n",
       "      <th>1</th>\n",
       "      <td>SC Magdeburg</td>\n",
       "      <td>TVB 1898 Stuttgart</td>\n",
       "      <td>1.0</td>\n",
       "      <td>Magnusson</td>\n",
       "      <td>32.0</td>\n",
       "      <td>17.0</td>\n",
       "      <td>16.0</td>\n",
       "      <td>1.0</td>\n",
       "      <td>20.0</td>\n",
       "      <td>2.0</td>\n",
       "      <td>9.0</td>\n",
       "      <td>1.0</td>\n",
       "      <td>Heinevedtter</td>\n",
       "      <td>194.0</td>\n",
       "      <td>186.0</td>\n",
       "      <td>0.0</td>\n",
       "      <td>2.0</td>\n",
       "      <td>7.0</td>\n",
       "      <td>1.0</td>\n",
       "    </tr>\n",
       "    <tr>\n",
       "      <th>2</th>\n",
       "      <td>SC Magdeburg</td>\n",
       "      <td>TVB 1898 Stuttgart</td>\n",
       "      <td>1.0</td>\n",
       "      <td>Magnusson</td>\n",
       "      <td>40.0</td>\n",
       "      <td>22.0</td>\n",
       "      <td>18.0</td>\n",
       "      <td>1.0</td>\n",
       "      <td>44.0</td>\n",
       "      <td>2.0</td>\n",
       "      <td>8.0</td>\n",
       "      <td>1.0</td>\n",
       "      <td>Vujovic</td>\n",
       "      <td>196.0</td>\n",
       "      <td>186.0</td>\n",
       "      <td>1.0</td>\n",
       "      <td>3.0</td>\n",
       "      <td>9.0</td>\n",
       "      <td>1.0</td>\n",
       "    </tr>\n",
       "    <tr>\n",
       "      <th>3</th>\n",
       "      <td>SC Magdeburg</td>\n",
       "      <td>TVB 1898 Stuttgart</td>\n",
       "      <td>1.0</td>\n",
       "      <td>Magnusson</td>\n",
       "      <td>46.0</td>\n",
       "      <td>27.0</td>\n",
       "      <td>22.0</td>\n",
       "      <td>0.0</td>\n",
       "      <td>21.0</td>\n",
       "      <td>2.0</td>\n",
       "      <td>4.0</td>\n",
       "      <td>1.0</td>\n",
       "      <td>Vujovic</td>\n",
       "      <td>196.0</td>\n",
       "      <td>186.0</td>\n",
       "      <td>0.0</td>\n",
       "      <td>4.0</td>\n",
       "      <td>8.0</td>\n",
       "      <td>1.0</td>\n",
       "    </tr>\n",
       "    <tr>\n",
       "      <th>4</th>\n",
       "      <td>Rhein-Neckar Löwen</td>\n",
       "      <td>SC Magdeburg</td>\n",
       "      <td>2.0</td>\n",
       "      <td>&lt;NA&gt;</td>\n",
       "      <td>NaN</td>\n",
       "      <td>NaN</td>\n",
       "      <td>NaN</td>\n",
       "      <td>NaN</td>\n",
       "      <td>NaN</td>\n",
       "      <td>NaN</td>\n",
       "      <td>NaN</td>\n",
       "      <td>NaN</td>\n",
       "      <td>&lt;NA&gt;</td>\n",
       "      <td>NaN</td>\n",
       "      <td>NaN</td>\n",
       "      <td>NaN</td>\n",
       "      <td>NaN</td>\n",
       "      <td>NaN</td>\n",
       "      <td>NaN</td>\n",
       "    </tr>\n",
       "  </tbody>\n",
       "</table>\n",
       "</div>"
      ],
      "text/plain": [
       "             homeTeam        opponentTeam  day       name  playTime  \\\n",
       "0        SC Magdeburg  TVB 1898 Stuttgart  1.0  Magnusson      19.0   \n",
       "1        SC Magdeburg  TVB 1898 Stuttgart  1.0  Magnusson      32.0   \n",
       "2        SC Magdeburg  TVB 1898 Stuttgart  1.0  Magnusson      40.0   \n",
       "3        SC Magdeburg  TVB 1898 Stuttgart  1.0  Magnusson      46.0   \n",
       "4  Rhein-Neckar Löwen        SC Magdeburg  2.0       <NA>       NaN   \n",
       "\n",
       "   homeGoals  opponentGoals  throwSuccess  whistleThrowTime  LRHandy  \\\n",
       "0        9.0            9.0           1.0              18.0      2.0   \n",
       "1       17.0           16.0           1.0              20.0      2.0   \n",
       "2       22.0           18.0           1.0              44.0      2.0   \n",
       "3       27.0           22.0           0.0              21.0      2.0   \n",
       "4        NaN            NaN           NaN               NaN      NaN   \n",
       "\n",
       "   throwDirection  goalKeeperPosition goalKeeperName  goalKeeperHeightCM  \\\n",
       "0             7.0                 1.0    Heinevetter               194.0   \n",
       "1             9.0                 1.0   Heinevedtter               194.0   \n",
       "2             8.0                 1.0        Vujovic               196.0   \n",
       "3             4.0                 1.0        Vujovic               196.0   \n",
       "4             NaN                 NaN           <NA>                 NaN   \n",
       "\n",
       "   shooterheightCM  pressureSituation  noOfThrowsFromPlayer  \\\n",
       "0            186.0                0.0                   1.0   \n",
       "1            186.0                0.0                   2.0   \n",
       "2            186.0                1.0                   3.0   \n",
       "3            186.0                0.0                   4.0   \n",
       "4              NaN                NaN                   NaN   \n",
       "\n",
       "   throwQuadrantLastThrow  lastThrowSuccess  \n",
       "0                     NaN               NaN  \n",
       "1                     7.0               1.0  \n",
       "2                     9.0               1.0  \n",
       "3                     8.0               1.0  \n",
       "4                     NaN               NaN  "
      ]
     },
     "execution_count": 3,
     "metadata": {},
     "output_type": "execute_result"
    }
   ],
   "source": [
    "df.replace('unklar', np.nan,inplace=True)\n",
    "df.replace('unklar ', np.nan,inplace=True)\n",
    "df.replace('fehlend', np.nan,inplace=True)\n",
    "#df.dropna(inplace=True)\n",
    "df.replace('-', np.nan,inplace=True)\n",
    "df.columns = [ 'homeTeam','opponentTeam','day','name','playTime',\n",
    "              'homeGoals','opponentGoals','throwSuccess','whistleThrowTime',\n",
    "              'LRHandy','throwDirection','goalKeeperPosition',\n",
    "              'goalKeeperName', 'goalKeeperHeightCM','shooterheightCM',\n",
    "              'pressureSituation','noOfThrowsFromPlayer',\n",
    "              'throwQuadrantLastThrow','lastThrowSuccess']\n",
    "df = df.astype({'homeTeam':'string', 'opponentTeam':'string','day':'float16','name':'string','playTime':'float16',\n",
    "              'homeGoals':'float16','opponentGoals':'float16','whistleThrowTime':'float16','goalKeeperPosition':'float16',\n",
    "              'throwSuccess':'float16','LRHandy':'float16','throwDirection':'float16','pressureSituation':'float16','noOfThrowsFromPlayer':'float16',\n",
    "              'throwQuadrantLastThrow':'float16','lastThrowSuccess':'float16','goalKeeperName':'string', 'goalKeeperHeightCM':'float16','shooterheightCM':'float16' })\n",
    "df.head()"
   ]
  },
  {
   "attachments": {},
   "cell_type": "markdown",
   "metadata": {},
   "source": [
    "General Summary"
   ]
  },
  {
   "cell_type": "code",
   "execution_count": 4,
   "metadata": {},
   "outputs": [
    {
     "data": {
      "text/html": [
       "<div>\n",
       "<style scoped>\n",
       "    .dataframe tbody tr th:only-of-type {\n",
       "        vertical-align: middle;\n",
       "    }\n",
       "\n",
       "    .dataframe tbody tr th {\n",
       "        vertical-align: top;\n",
       "    }\n",
       "\n",
       "    .dataframe thead th {\n",
       "        text-align: right;\n",
       "    }\n",
       "</style>\n",
       "<table border=\"1\" class=\"dataframe\">\n",
       "  <thead>\n",
       "    <tr style=\"text-align: right;\">\n",
       "      <th>pressureSituation</th>\n",
       "      <th>0.0</th>\n",
       "      <th>1.0</th>\n",
       "      <th>Total</th>\n",
       "    </tr>\n",
       "    <tr>\n",
       "      <th>throwSuccess</th>\n",
       "      <th></th>\n",
       "      <th></th>\n",
       "      <th></th>\n",
       "    </tr>\n",
       "  </thead>\n",
       "  <tbody>\n",
       "    <tr>\n",
       "      <th>0.0</th>\n",
       "      <td>32</td>\n",
       "      <td>9</td>\n",
       "      <td>41</td>\n",
       "    </tr>\n",
       "    <tr>\n",
       "      <th>1.0</th>\n",
       "      <td>179</td>\n",
       "      <td>41</td>\n",
       "      <td>220</td>\n",
       "    </tr>\n",
       "    <tr>\n",
       "      <th>Total</th>\n",
       "      <td>211</td>\n",
       "      <td>50</td>\n",
       "      <td>261</td>\n",
       "    </tr>\n",
       "  </tbody>\n",
       "</table>\n",
       "</div>"
      ],
      "text/plain": [
       "pressureSituation  0.0  1.0  Total\n",
       "throwSuccess                      \n",
       "0.0                 32    9     41\n",
       "1.0                179   41    220\n",
       "Total              211   50    261"
      ]
     },
     "execution_count": 4,
     "metadata": {},
     "output_type": "execute_result"
    }
   ],
   "source": [
    "ps = df.loc[:,('throwSuccess','pressureSituation')].copy()\n",
    "ps.dropna(inplace=True)\n",
    "ps['throwSuccess'].replace(2.0, 1.0,inplace=True)\n",
    "s = [0, 1,4,5,7]\n",
    "ps = ps[ps.pressureSituation.isin(s) == True]\n",
    "ps['pressureSituation'].replace(4.0, 1.0,inplace=True)\n",
    "ps['pressureSituation'].replace(5.0, 1.0,inplace=True)\n",
    "ps['pressureSituation'].replace(7.0, 1.0,inplace=True)\n",
    "# print(ps)\n",
    "# X_ps = ['No Pressure Situation','GoalKeeperChange','LastThrowFailed',\n",
    "#      'GoalDiffLessEqualTo4After50MinPlay','GoalKeeperChange-LastThrowFailed',\n",
    "#      'GoalKeeperChange-GoalDiffLessEqualTo4After50MinPlay','LastThrowFailed-GoalDiffLessEqualTo4After50MinPlay',\n",
    "#      'GoalKeeperChange-LastThrowFailed-GoalDiffLessEqualTo4After50MinPlay',\n",
    "#      'FirstInNachWurf']\n",
    "# for i,s in enumerate(X_ps):\n",
    "#     ps['pressureSituation'].replace(i, s,inplace=True)\n",
    "\n",
    "# print(ps)\n",
    "# ps1 =pd.DataFrame(ps.groupby('throwSuccess').pressureSituation.value_counts()).unstack()\n",
    "# ps1\n",
    "contigency= pd.crosstab(ps['throwSuccess'], ps['pressureSituation'], margins=True, margins_name=\"Total\") \n",
    "contigency\n",
    "\n"
   ]
  },
  {
   "cell_type": "code",
   "execution_count": 5,
   "metadata": {},
   "outputs": [
    {
     "data": {
      "text/html": [
       "<div>\n",
       "<style scoped>\n",
       "    .dataframe tbody tr th:only-of-type {\n",
       "        vertical-align: middle;\n",
       "    }\n",
       "\n",
       "    .dataframe tbody tr th {\n",
       "        vertical-align: top;\n",
       "    }\n",
       "\n",
       "    .dataframe thead th {\n",
       "        text-align: right;\n",
       "    }\n",
       "</style>\n",
       "<table border=\"1\" class=\"dataframe\">\n",
       "  <thead>\n",
       "    <tr style=\"text-align: right;\">\n",
       "      <th>throwSuccess</th>\n",
       "      <th>Failed</th>\n",
       "      <th>Success</th>\n",
       "    </tr>\n",
       "    <tr>\n",
       "      <th>pressureSituation</th>\n",
       "      <th></th>\n",
       "      <th></th>\n",
       "    </tr>\n",
       "  </thead>\n",
       "  <tbody>\n",
       "    <tr>\n",
       "      <th>GoalKeeper Changed</th>\n",
       "      <td>0.180000</td>\n",
       "      <td>0.820000</td>\n",
       "    </tr>\n",
       "    <tr>\n",
       "      <th>Same GoalKeeper</th>\n",
       "      <td>0.151659</td>\n",
       "      <td>0.848341</td>\n",
       "    </tr>\n",
       "  </tbody>\n",
       "</table>\n",
       "</div>"
      ],
      "text/plain": [
       "throwSuccess          Failed   Success\n",
       "pressureSituation                     \n",
       "GoalKeeper Changed  0.180000  0.820000\n",
       "Same GoalKeeper     0.151659  0.848341"
      ]
     },
     "execution_count": 5,
     "metadata": {},
     "output_type": "execute_result"
    },
    {
     "data": {
      "image/png": "[encoded data removed]",
      "text/plain": [
       "<Figure size 640x480 with 1 Axes>"
      ]
     },
     "metadata": {},
     "output_type": "display_data"
    }
   ],
   "source": [
    "#contigency_pct = pd.crosstab(ps['throwSuccess'], ps['pressureSituation'], normalize='all', margins=True, margins_name=\"Total\")\n",
    "dfpct = ps.copy()\n",
    "dfpct['pressureSituation'].replace(0.0,'Same GoalKeeper',inplace=True)\n",
    "dfpct['pressureSituation'].replace(1.0,'GoalKeeper Changed',inplace=True)\n",
    "dfpct['throwSuccess'].replace(0.0,'Failed',inplace=True)\n",
    "dfpct['throwSuccess'].replace(1.0,'Success',inplace=True)\n",
    "contigency_pct = pd.crosstab(dfpct['pressureSituation'],dfpct['throwSuccess'], normalize='index')\n",
    "contigency_pct.plot(kind='bar',stacked=False,color={\"Failed\": \"red\", \"Success\": \"green\"})\n",
    "contigency_pct"
   ]
  },
  {
   "cell_type": "code",
   "execution_count": 6,
   "metadata": {},
   "outputs": [
    {
     "name": "stdout",
     "output_type": "stream",
     "text": [
      "0.07787199850779197 0.7802021965546373 1\n",
      "[[ 33.14559387   7.85440613]\n",
      " [177.85440613  42.14559387]]\n"
     ]
    }
   ],
   "source": [
    "from scipy.stats import chi2_contingency\n",
    "\n",
    "\n",
    "# null hypo : no significant association between pressure situation and throwsuccess\n",
    "# research hypo : There is relation between pressure situation and throwsuccess\n",
    "# for df=1 & alpha=0.05 c =1(Chi-square table)\n",
    "contigencychi= pd.crosstab(ps['throwSuccess'], ps['pressureSituation']) \n",
    "c, p, dof, expected = chi2_contingency(contigencychi) \n",
    "print(c,p,dof)\n",
    "print(expected)\n",
    "#c > 3.84  Null Hypo accepted with 5% error\n",
    "\n",
    "# Also,\n",
    "# P-value ≤ α: The variables have a statistically significant association (Reject H0)\n",
    "# If the p-value is less than or equal to the significance level, you reject the null hypothesis and conclude that there is a statistically significant association between the variables.\n",
    "# P-value > α: Cannot conclude that the variables are associated (Fail to reject H0)\n",
    "# If the p-value is larger than the significance level, you fail to reject the null hypothesis because there is not enough evidence to conclude that the variables are associated."
   ]
  },
  {
   "attachments": {},
   "cell_type": "markdown",
   "metadata": {},
   "source": [
    "Changing Goalkeeper increses the chances of Throw Success but as per Chi Square Test we can conclude that there is no statistically significant association between Throw Success and Pressure Situation with 5% error."
   ]
  }
 ],
 "metadata": {
  "kernelspec": {
   "display_name": "Python 3.9.6 ('hba-venv': venv)",
   "language": "python",
   "name": "python3"
  },
  "language_info": {
   "codemirror_mode": {
    "name": "ipython",
    "version": 3
   },
   "file_extension": ".py",
   "mimetype": "text/x-python",
   "name": "python",
   "nbconvert_exporter": "python",
   "pygments_lexer": "ipython3",
   "version": "3.9.6"
  },
  "orig_nbformat": 4,
  "vscode": {
   "interpreter": {
    "hash": "2836679e579ea753e9cd916b5ae112c500625653011e8467c2f722882acbf950"
   }
  }
 },
 "nbformat": 4,
 "nbformat_minor": 2
}
