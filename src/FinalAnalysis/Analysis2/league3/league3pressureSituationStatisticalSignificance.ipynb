{
 "cells": [
  {
   "attachments": {},
   "cell_type": "markdown",
   "metadata": {},
   "source": [
    "Imports"
   ]
  },
  {
   "cell_type": "code",
   "execution_count": 1,
   "metadata": {},
   "outputs": [],
   "source": [
    "import pandas as pd\n",
    "import numpy as np\n",
    "import matplotlib.pyplot as plt\n",
    "%matplotlib inline"
   ]
  },
  {
   "cell_type": "markdown",
   "metadata": {},
   "source": [
    "Read Data"
   ]
  },
  {
   "cell_type": "code",
   "execution_count": 2,
   "metadata": {},
   "outputs": [
    {
     "data": {
      "text/plain": [
       "Index(['Heimmannschaft', 'Gastmannschaft', 'Spieltag', 'Name', 'Spielminute',\n",
       "       'Differenz Pfiff 1 und 2 (in Sekunden)', 'Tore Verein', 'Tore Gegner',\n",
       "       'Torwartposition (1 = vorne, 2 = hinten)',\n",
       "       'Wurf erfolgreich (0= Nein, 1 = Ja, 2 = im Nachwurf)',\n",
       "       'L-R-Händer (1= Rechtshänder; 2= Linkshänder)', 'Wurfrichtung (1-9)?',\n",
       "       'Drucksituation?\\n0 = Nein, 1 = Torwartwechsel\\n2 = letzter 7 Meter gehalten\\n3 = Tordifferenz =< 4 + ab 50. Spielminute\\n4 = 1 + 2, 5 = 1 + 3, 6 = 2 + 3, 7 = 1 + 2 + 3, 8 = letzer 7-Meter erst im Nachwurf erfolgreich',\n",
       "       'Anzahl 7-Meter im Spiel (der wievielte 7-Meter im Spiel vom Spieler)',\n",
       "       'Wurfquadrant des letzten 7-Meters (1-9)',\n",
       "       'letzter 7-Meter erfolgreich \\n(1= ja; 0= Nein; 2 = im Nachwurf erfolgreich)?'],\n",
       "      dtype='object')"
      ]
     },
     "execution_count": 2,
     "metadata": {},
     "output_type": "execute_result"
    }
   ],
   "source": [
    "file = pd.ExcelFile(\"../../../data/v7/Handball 3. Liga vom 23.01.2023.xlsx\")\n",
    "\n",
    "file.sheet_names\n",
    "\n",
    "df = file.parse('3. Liga')\n",
    "\n",
    "# drop last col comments\n",
    "df = df.iloc[:, :-1]\n",
    "df.columns"
   ]
  },
  {
   "attachments": {},
   "cell_type": "markdown",
   "metadata": {},
   "source": [
    "Cleanup & Renaming"
   ]
  },
  {
   "cell_type": "code",
   "execution_count": 3,
   "metadata": {},
   "outputs": [],
   "source": [
    "df.replace('unklar', np.nan,inplace=True)\n",
    "df.replace('unklar ', np.nan,inplace=True)\n",
    "df.replace('fehlend', np.nan,inplace=True)\n",
    "#df.dropna(inplace=True)\n",
    "df.replace('-', np.nan,inplace=True)\n",
    "df.columns =[ 'homeTeam','opponentTeam','day','name','playTime',\n",
    "              'whistleThrowTime','homeGoals','opponentGoals','goalKeeperPosition',\n",
    "              'throwSuccess','LRHandy','throwDirection','pressureSituation','noOfThrowsFromPlayer',\n",
    "              'throwQuadrantLastThrow','lastThrowSuccess']\n",
    "df = df.astype({'homeTeam':'string', 'opponentTeam':'string','day':'float16','name':'string','playTime':'float16',\n",
    "              'homeGoals':'float16','opponentGoals':'float16','whistleThrowTime':'float16','goalKeeperPosition':'float16',\n",
    "              'throwSuccess':'float16','LRHandy':'float16','throwDirection':'float16','pressureSituation':'float16','noOfThrowsFromPlayer':'float16',\n",
    "              'throwQuadrantLastThrow':'float16','lastThrowSuccess':'float16' })"
   ]
  },
  {
   "attachments": {},
   "cell_type": "markdown",
   "metadata": {},
   "source": [
    "General Summary"
   ]
  },
  {
   "cell_type": "code",
   "execution_count": 4,
   "metadata": {},
   "outputs": [
    {
     "data": {
      "text/html": [
       "<div>\n",
       "<style scoped>\n",
       "    .dataframe tbody tr th:only-of-type {\n",
       "        vertical-align: middle;\n",
       "    }\n",
       "\n",
       "    .dataframe tbody tr th {\n",
       "        vertical-align: top;\n",
       "    }\n",
       "\n",
       "    .dataframe thead th {\n",
       "        text-align: right;\n",
       "    }\n",
       "</style>\n",
       "<table border=\"1\" class=\"dataframe\">\n",
       "  <thead>\n",
       "    <tr style=\"text-align: right;\">\n",
       "      <th>pressureSituation</th>\n",
       "      <th>0.0</th>\n",
       "      <th>1.0</th>\n",
       "      <th>Total</th>\n",
       "    </tr>\n",
       "    <tr>\n",
       "      <th>throwSuccess</th>\n",
       "      <th></th>\n",
       "      <th></th>\n",
       "      <th></th>\n",
       "    </tr>\n",
       "  </thead>\n",
       "  <tbody>\n",
       "    <tr>\n",
       "      <th>0.0</th>\n",
       "      <td>57</td>\n",
       "      <td>7</td>\n",
       "      <td>64</td>\n",
       "    </tr>\n",
       "    <tr>\n",
       "      <th>1.0</th>\n",
       "      <td>225</td>\n",
       "      <td>52</td>\n",
       "      <td>277</td>\n",
       "    </tr>\n",
       "    <tr>\n",
       "      <th>Total</th>\n",
       "      <td>282</td>\n",
       "      <td>59</td>\n",
       "      <td>341</td>\n",
       "    </tr>\n",
       "  </tbody>\n",
       "</table>\n",
       "</div>"
      ],
      "text/plain": [
       "pressureSituation  0.0  1.0  Total\n",
       "throwSuccess                      \n",
       "0.0                 57    7     64\n",
       "1.0                225   52    277\n",
       "Total              282   59    341"
      ]
     },
     "execution_count": 4,
     "metadata": {},
     "output_type": "execute_result"
    }
   ],
   "source": [
    "ps = df.loc[:,('throwSuccess','pressureSituation')].copy()\n",
    "ps.dropna(inplace=True)\n",
    "ps['throwSuccess'].replace(2.0, 1.0,inplace=True)\n",
    "s = [0, 1,4,5,7]\n",
    "ps = ps[ps.pressureSituation.isin(s) == True]\n",
    "ps['pressureSituation'].replace(4.0, 1.0,inplace=True)\n",
    "ps['pressureSituation'].replace(5.0, 1.0,inplace=True)\n",
    "ps['pressureSituation'].replace(7.0, 1.0,inplace=True)\n",
    "# print(ps)\n",
    "# X_ps = ['No Pressure Situation','GoalKeeperChange','LastThrowFailed',\n",
    "#      'GoalDiffLessEqualTo4After50MinPlay','GoalKeeperChange-LastThrowFailed',\n",
    "#      'GoalKeeperChange-GoalDiffLessEqualTo4After50MinPlay','LastThrowFailed-GoalDiffLessEqualTo4After50MinPlay',\n",
    "#      'GoalKeeperChange-LastThrowFailed-GoalDiffLessEqualTo4After50MinPlay',\n",
    "#      'FirstInNachWurf']\n",
    "# for i,s in enumerate(X_ps):\n",
    "#     ps['pressureSituation'].replace(i, s,inplace=True)\n",
    "\n",
    "# print(ps)\n",
    "# ps1 =pd.DataFrame(ps.groupby('throwSuccess').pressureSituation.value_counts()).unstack()\n",
    "# ps1\n",
    "contigency= pd.crosstab(ps['throwSuccess'], ps['pressureSituation'], margins=True, margins_name=\"Total\") \n",
    "contigency\n",
    "\n"
   ]
  },
  {
   "cell_type": "code",
   "execution_count": 5,
   "metadata": {},
   "outputs": [
    {
     "data": {
      "text/html": [
       "<div>\n",
       "<style scoped>\n",
       "    .dataframe tbody tr th:only-of-type {\n",
       "        vertical-align: middle;\n",
       "    }\n",
       "\n",
       "    .dataframe tbody tr th {\n",
       "        vertical-align: top;\n",
       "    }\n",
       "\n",
       "    .dataframe thead th {\n",
       "        text-align: right;\n",
       "    }\n",
       "</style>\n",
       "<table border=\"1\" class=\"dataframe\">\n",
       "  <thead>\n",
       "    <tr style=\"text-align: right;\">\n",
       "      <th>throwSuccess</th>\n",
       "      <th>Failed</th>\n",
       "      <th>Success</th>\n",
       "    </tr>\n",
       "    <tr>\n",
       "      <th>pressureSituation</th>\n",
       "      <th></th>\n",
       "      <th></th>\n",
       "    </tr>\n",
       "  </thead>\n",
       "  <tbody>\n",
       "    <tr>\n",
       "      <th>GoalKeeper Changed</th>\n",
       "      <td>0.118644</td>\n",
       "      <td>0.881356</td>\n",
       "    </tr>\n",
       "    <tr>\n",
       "      <th>Same GoalKeeper</th>\n",
       "      <td>0.202128</td>\n",
       "      <td>0.797872</td>\n",
       "    </tr>\n",
       "  </tbody>\n",
       "</table>\n",
       "</div>"
      ],
      "text/plain": [
       "throwSuccess          Failed   Success\n",
       "pressureSituation                     \n",
       "GoalKeeper Changed  0.118644  0.881356\n",
       "Same GoalKeeper     0.202128  0.797872"
      ]
     },
     "execution_count": 5,
     "metadata": {},
     "output_type": "execute_result"
    },
    {
     "data": {
      "image/png": "[encoded data removed]",
      "text/plain": [
       "<Figure size 640x480 with 1 Axes>"
      ]
     },
     "metadata": {},
     "output_type": "display_data"
    }
   ],
   "source": [
    "#contigency_pct = pd.crosstab(ps['throwSuccess'], ps['pressureSituation'], normalize='all', margins=True, margins_name=\"Total\")\n",
    "dfpct = ps.copy()\n",
    "dfpct['pressureSituation'].replace(0.0,'Same GoalKeeper',inplace=True)\n",
    "dfpct['pressureSituation'].replace(1.0,'GoalKeeper Changed',inplace=True)\n",
    "dfpct['throwSuccess'].replace(0.0,'Failed',inplace=True)\n",
    "dfpct['throwSuccess'].replace(1.0,'Success',inplace=True)\n",
    "contigency_pct = pd.crosstab(dfpct['pressureSituation'],dfpct['throwSuccess'], normalize='index')\n",
    "contigency_pct.plot(kind='bar',stacked=False,color={\"Failed\": \"red\", \"Success\": \"green\"})\n",
    "contigency_pct"
   ]
  },
  {
   "cell_type": "code",
   "execution_count": 6,
   "metadata": {},
   "outputs": [
    {
     "name": "stdout",
     "output_type": "stream",
     "text": [
      "1.7165030641399048 0.19014380038282191 1\n",
      "[[ 52.92668622  11.07331378]\n",
      " [229.07331378  47.92668622]]\n"
     ]
    }
   ],
   "source": [
    "from scipy.stats import chi2_contingency\n",
    "\n",
    "\n",
    "# null hypo : no significant association between pressure situation and throwsuccess\n",
    "# research hypo : There is relation between pressure situation and throwsuccess\n",
    "# for df=1 & alpha=0.05 c =1(Chi-square table)\n",
    "contigencychi= pd.crosstab(ps['throwSuccess'], ps['pressureSituation']) \n",
    "c, p, dof, expected = chi2_contingency(contigencychi) \n",
    "print(c,p,dof)\n",
    "print(expected)\n",
    "#c > 3.84  Null Hypo accepted with 5% error\n",
    "\n",
    "# Also,\n",
    "# P-value ≤ α: The variables have a statistically significant association (Reject H0)\n",
    "# If the p-value is less than or equal to the significance level, you reject the null hypothesis and conclude that there is a statistically significant association between the variables.\n",
    "# P-value > α: Cannot conclude that the variables are associated (Fail to reject H0)\n",
    "# If the p-value is larger than the significance level, you fail to reject the null hypothesis because there is not enough evidence to conclude that the variables are associated."
   ]
  },
  {
   "attachments": {},
   "cell_type": "markdown",
   "metadata": {},
   "source": [
    "Changing Goalkeeper increses the chances of Throw Success but as per Chi Square Test we can conclude that there is no statistically significant association between Throw Success and Pressure Situation with 5% error."
   ]
  }
 ],
 "metadata": {
  "kernelspec": {
   "display_name": "Python 3.9.6 ('hba-venv': venv)",
   "language": "python",
   "name": "python3"
  },
  "language_info": {
   "codemirror_mode": {
    "name": "ipython",
    "version": 3
   },
   "file_extension": ".py",
   "mimetype": "text/x-python",
   "name": "python",
   "nbconvert_exporter": "python",
   "pygments_lexer": "ipython3",
   "version": "3.9.6"
  },
  "orig_nbformat": 4,
  "vscode": {
   "interpreter": {
    "hash": "2836679e579ea753e9cd916b5ae112c500625653011e8467c2f722882acbf950"
   }
  }
 },
 "nbformat": 4,
 "nbformat_minor": 2
}
